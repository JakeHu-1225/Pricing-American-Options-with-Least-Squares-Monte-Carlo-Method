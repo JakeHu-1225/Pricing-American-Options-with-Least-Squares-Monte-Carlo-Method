{
  "nbformat": 4,
  "nbformat_minor": 0,
  "metadata": {
    "colab": {
      "name": "Pricing American Options with Least Squares Monte-Carlo Method.ipynb",
      "provenance": [],
      "collapsed_sections": []
    },
    "kernelspec": {
      "name": "python3",
      "display_name": "Python 3"
    },
    "language_info": {
      "name": "python"
    }
  },
  "cells": [
    {
      "cell_type": "code",
      "metadata": {
        "id": "RsUQQa-iQee2"
      },
      "source": [
        "#Jake Hu, UIN 658882246\n",
        "#Project 1 FIN 553\n",
        "import tensorflow as tf"
      ],
      "execution_count": null,
      "outputs": []
    },
    {
      "cell_type": "code",
      "metadata": {
        "id": "eVzAPG9NQjlY"
      },
      "source": [
        "Spot = 36   # stock price\n",
        "σ = 0.2     # stock volatility\n",
        "K = 40      # strike price\n",
        "r = 0.06    # risk free rate\n",
        "n = 100000  # Number of simualted paths\n",
        "m = 50      # number of exercise dates\n",
        "T = 1       # maturity\n",
        "order = 6   # Polynmial order\n",
        "Δt = T / m  # interval between two exercise dates"
      ],
      "execution_count": null,
      "outputs": []
    },
    {
      "cell_type": "code",
      "metadata": {
        "id": "KNINVP-fQk_d"
      },
      "source": [
        "def chebyshev_basis(x, k):\n",
        "    B = tf.Variable(tf.ones([k, len(x)]))\n",
        "    tf.compat.v1.assign(B[1,:],x)\n",
        "    for n in range(2, k):\n",
        "        tf.compat.v1.assign(B[n, :],(2 * x * B[n - 1, :] - B[n - 2, :]))\n",
        "\n",
        "    return tf.transpose(B)"
      ],
      "execution_count": null,
      "outputs": []
    },
    {
      "cell_type": "code",
      "metadata": {
        "id": "7ZXm7PwxQtUR"
      },
      "source": [
        "def scale(x):\n",
        "        xmin = tf.reduce_min(x)\n",
        "        xmax = tf.reduce_max(x)\n",
        "        a = 2 / (xmax - xmin)\n",
        "        b = 1 - a * xmax\n",
        "        return a * x + b"
      ],
      "execution_count": null,
      "outputs": []
    },
    {
      "cell_type": "code",
      "metadata": {
        "id": "1HbNTghEQv-f"
      },
      "source": [
        "def scale(x):\n",
        "        xmin = tf.reduce_min(x)\n",
        "        xmax = tf.reduce_max(x)\n",
        "        a = 2 / (xmax - xmin)\n",
        "        b = 1 - a * xmax\n",
        "        return a * x + b"
      ],
      "execution_count": null,
      "outputs": []
    },
    {
      "cell_type": "code",
      "metadata": {
        "id": "NZ5BtIRlQ5xA"
      },
      "source": [
        "def advance(S, r, σ, Δt, n):\n",
        "    dB = tf.sqrt(Δt)*tf.Variable(tf.random.normal([n]))\n",
        "    out = S + r * S * Δt + σ * S * dB\n",
        "    return out"
      ],
      "execution_count": null,
      "outputs": []
    },
    {
      "cell_type": "code",
      "metadata": {
        "id": "g8Z9SzvIQ8C6"
      },
      "source": [
        "def first_one(x):\n",
        "    original = x\n",
        "    x = tf.cast(tf.greater(x, 0.),dtype=tf.float32)\n",
        "    nt = x.shape[0]\n",
        "    batch_size = x.shape[1]\n",
        "    x_not = 1 - x\n",
        "    sum_x = tf.math.minimum(tf.math.cumprod(x_not, axis=0), 1.)\n",
        "    ones = tf.ones([1, batch_size])\n",
        "    lag = sum_x[:(nt - 1), :]\n",
        "    lag = tf.concat([ones, lag],axis=0)\n",
        "    return original * (lag * x)"
      ],
      "execution_count": null,
      "outputs": []
    },
    {
      "cell_type": "code",
      "metadata": {
        "id": "XrpsobvCQ93Y"
      },
      "source": [
        "def compute_price(order, Spot, σ, K, r):\n",
        "    tf.random.set_seed(11)\n",
        "    S = tf.Variable(tf.zeros([m + 1, n]))\n",
        "    tf.compat.v1.assign(S[0, :],tf.ones([n])*Spot)\n",
        "\n",
        "    for t in range(m):\n",
        "        tf.compat.v1.assign(S[t + 1, :], advance(S[t, :], r, σ, Δt, n))\n",
        "\n",
        "    discount = tf.exp(-r * Δt)\n",
        "    CFL = tf.math.maximum(0., K - S)\n",
        "    value = tf.Variable(tf.zeros((m, n)))\n",
        "    tf.compat.v1.assign(value[-1],CFL[-1] * discount)\n",
        "    CV = tf.Variable(tf.zeros((m, n)))\n",
        "\n",
        "    for k in range(2, m + 1):\n",
        "        t = m - k\n",
        "        t_next = t + 1\n",
        "\n",
        "        X = chebyshev_basis(scale(S[t_next]), order)\n",
        "        Y = value[t_next]\n",
        "\n",
        "        # regression to estimate the continuation value\n",
        "        Θ = tf.linalg.solve(tf.transpose(X) @ X, tf.transpose(X) @ tf.transpose(tf.reshape(Y,[1,n])))\n",
        "        tf.compat.v1.assign(CV[t], tf.reshape(X @ Θ,[n]))\n",
        "        tf.compat.v1.assign(value[t], discount * tf.where(CFL[t_next] > CV[t],CFL[t_next],value[t_next]))                                                                            \n",
        "    POF = tf.where(CV<CFL[1:],CFL[1:],0.)\n",
        "    FPOF = first_one(POF)\n",
        "    m_range = tf.reshape(tf.Variable(range(m),dtype=tf.float32),[-1, 1])\n",
        "    dFPOF = FPOF * tf.exp(-r * m_range * Δt)\n",
        "    PRICE = tf.reduce_sum(dFPOF)/ n\n",
        "    return PRICE"
      ],
      "execution_count": null,
      "outputs": []
    },
    {
      "cell_type": "code",
      "metadata": {
        "colab": {
          "base_uri": "https://localhost:8080/"
        },
        "id": "MvRhWSEhTN47",
        "outputId": "b6eecb64-52d6-45e6-95fa-8efc608ef6c5"
      },
      "source": [
        "print(compute_price(order, Spot, σ, K, r))"
      ],
      "execution_count": null,
      "outputs": [
        {
          "output_type": "stream",
          "name": "stdout",
          "text": [
            "tf.Tensor(4.4784684, shape=(), dtype=float32)\n"
          ]
        }
      ]
    },
    {
      "cell_type": "code",
      "metadata": {
        "id": "nQj2j1rsd5v9"
      },
      "source": [
        "from tensorflow.keras import Sequential\n",
        "from tensorflow.keras.layers import Dense"
      ],
      "execution_count": null,
      "outputs": []
    },
    {
      "cell_type": "code",
      "metadata": {
        "id": "MI0QkTz4OC9l"
      },
      "source": [
        "# this function is used to unscale prediction from neural network\n",
        "# we scale Y in order to speed up learning process\n",
        "# therefore we need to unscale to get right prediction\n",
        "def Unscale(Y,prediction):\n",
        "        ymin = tf.reduce_min(Y)\n",
        "        ymax = tf.reduce_max(Y)\n",
        "        a = 2 / (ymax - ymin)\n",
        "        b = 1 - a * ymax\n",
        "        return (prediction-b)/a\n",
        "        "
      ],
      "execution_count": null,
      "outputs": []
    },
    {
      "cell_type": "code",
      "metadata": {
        "id": "NHQxJ23tXNu4"
      },
      "source": [
        "#define neural network\n",
        "def nn(x,y):\n",
        "        model = Sequential([Dense(64, activation='relu'), Dense(1)])\n",
        "        opt = tf.keras.optimizers.SGD(learning_rate=0.1)\n",
        "        model.compile(loss='mse', optimizer=opt)\n",
        "        model.fit(tf.reshape(x, shape=[-1, 1]), y, epochs=12, batch_size=int(100000/100),verbose=False)\n",
        "        prediction = model.predict(tf.reshape(x, shape=[-1, 1]))\n",
        "        return prediction"
      ],
      "execution_count": null,
      "outputs": []
    },
    {
      "cell_type": "code",
      "metadata": {
        "id": "dQ3SmdDGd6-S"
      },
      "source": [
        "def compute_price_neuralnetwork(order, Spot, σ, K, r):\n",
        "    tf.random.set_seed(11)\n",
        "    S = tf.Variable(tf.zeros([m + 1, n]))\n",
        "    tf.compat.v1.assign(S[0, :],tf.ones([n])*Spot)\n",
        "\n",
        "    for t in range(m):\n",
        "        tf.compat.v1.assign(S[t + 1, :], advance(S[t, :], r, σ, Δt, n))\n",
        "\n",
        "    discount = tf.exp(-r * Δt)\n",
        "    CFL = tf.math.maximum(0., K - S)\n",
        "    value = tf.Variable(tf.zeros((m, n)))\n",
        "    tf.compat.v1.assign(value[-1],CFL[-1] * discount)\n",
        "    CV = tf.Variable(tf.zeros((m, n)))\n",
        "\n",
        "    for k in range(2, m + 1):\n",
        "        t = m - k\n",
        "        t_next = t + 1\n",
        "\n",
        "        X = scale(S[t_next])\n",
        "        Y = scale(value[t_next])       \n",
        "\n",
        "        # neural netwrok to estimate the continuation value\n",
        "\n",
        "\n",
        "        prediction = Unscale(value[t_next],nn(tf.reshape(X, shape=[-1, 1]),Y))\n",
        "        tf.compat.v1.assign(CV[t], tf.reshape(prediction,[n]))\n",
        "        tf.compat.v1.assign(value[t], discount * tf.where(CFL[t_next] > CV[t],CFL[t_next],value[t_next]))                                                                            \n",
        "    POF = tf.where(CV<CFL[1:],CFL[1:],0.)\n",
        "    FPOF = first_one(POF)\n",
        "    m_range = tf.reshape(tf.Variable(range(m),dtype=tf.float32),[-1, 1])\n",
        "    dFPOF = FPOF * tf.exp(-r * m_range * Δt)\n",
        "    PRICE = tf.reduce_sum(dFPOF)/ n\n",
        "    return PRICE"
      ],
      "execution_count": null,
      "outputs": []
    },
    {
      "cell_type": "code",
      "metadata": {
        "colab": {
          "base_uri": "https://localhost:8080/"
        },
        "id": "BU85eU-Ee15Q",
        "outputId": "b1ace059-804f-42e2-a7da-2caec12b7b31"
      },
      "source": [
        "print(compute_price_neuralnetwork(order, Spot, σ, K, r))"
      ],
      "execution_count": null,
      "outputs": [
        {
          "output_type": "stream",
          "name": "stdout",
          "text": [
            "tf.Tensor(4.470001, shape=(), dtype=float32)\n"
          ]
        }
      ]
    }
  ]
}